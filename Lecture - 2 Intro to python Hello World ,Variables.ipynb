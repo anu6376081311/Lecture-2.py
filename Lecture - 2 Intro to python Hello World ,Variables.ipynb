{
 "cells": [
  {
   "cell_type": "code",
   "execution_count": 1,
   "id": "37ac549e",
   "metadata": {},
   "outputs": [
    {
     "name": "stdout",
     "output_type": "stream",
     "text": [
      "Hello\n",
      "Hello World\n"
     ]
    }
   ],
   "source": [
    "print(\"Hello\")\n",
    "print('Hello World')"
   ]
  },
  {
   "cell_type": "markdown",
   "id": "46a7bbbe",
   "metadata": {},
   "source": [
    "## Intro to jupyter\n",
    "we can write markdown or python code in our cells. You can chooose accordingly in the dropdown above."
   ]
  },
  {
   "cell_type": "code",
   "execution_count": 2,
   "id": "0f0bf9d4",
   "metadata": {},
   "outputs": [
    {
     "name": "stdout",
     "output_type": "stream",
     "text": [
      "10\n"
     ]
    }
   ],
   "source": [
    "a  = 10\n",
    "print(a)"
   ]
  },
  {
   "cell_type": "code",
   "execution_count": 3,
   "id": "5d3a92aa",
   "metadata": {},
   "outputs": [
    {
     "name": "stdout",
     "output_type": "stream",
     "text": [
      "career\n",
      "labs\n"
     ]
    }
   ],
   "source": [
    "# Output of the question\n",
    "print(\"career\")\n",
    "print('labs')"
   ]
  },
  {
   "cell_type": "markdown",
   "id": "e8e0e5a8",
   "metadata": {},
   "source": [
    "# Intro to variables"
   ]
  },
  {
   "cell_type": "code",
   "execution_count": 4,
   "id": "21524999",
   "metadata": {},
   "outputs": [
    {
     "data": {
      "text/plain": [
       "30"
      ]
     },
     "execution_count": 4,
     "metadata": {},
     "output_type": "execute_result"
    }
   ],
   "source": [
    "a = 10\n",
    "b = 20\n",
    "\n",
    "a + b\n"
   ]
  },
  {
   "cell_type": "code",
   "execution_count": 5,
   "id": "0fe3b980",
   "metadata": {},
   "outputs": [
    {
     "name": "stdout",
     "output_type": "stream",
     "text": [
      "30\n"
     ]
    }
   ],
   "source": [
    "a = 10\n",
    "b = 20\n",
    "\n",
    "sum = a + b\n",
    "print(sum) \n",
    "# Here sum print the value which is store inside the sum"
   ]
  },
  {
   "cell_type": "code",
   "execution_count": 6,
   "id": "f4ece980",
   "metadata": {},
   "outputs": [
    {
     "name": "stdout",
     "output_type": "stream",
     "text": [
      "Sum\n",
      "sum\n"
     ]
    }
   ],
   "source": [
    "print('Sum')\n",
    "# print function print the same string which is given in the single qoute\n",
    "print(\"sum\")\n",
    "# print function print the same value if the string is given in the double qoute in the print function"
   ]
  },
  {
   "cell_type": "markdown",
   "id": "c917c817",
   "metadata": {},
   "source": [
    "### Variable naming"
   ]
  },
  {
   "cell_type": "code",
   "execution_count": 7,
   "id": "604b8a18",
   "metadata": {},
   "outputs": [],
   "source": [
    "# Variables name can be start 1.lowercase(a,b,...) 2.uppercase (A,B,C...) 3.Unerscore (_)\n",
    "\n",
    "ab_c1 = 10\n",
    "# 12ss = 2\n",
    "#you can't start variables name with digit\n",
    "\n",
    "Ad98 = 34\n",
    "_re45 = 50"
   ]
  },
  {
   "cell_type": "code",
   "execution_count": 8,
   "id": "5d218108",
   "metadata": {},
   "outputs": [
    {
     "name": "stdout",
     "output_type": "stream",
     "text": [
      "multiple\n"
     ]
    }
   ],
   "source": [
    "# Que.\n",
    "a = 10\n",
    "b = 20\n",
    "multiple = a*b\n",
    "print(\"multiple\")"
   ]
  },
  {
   "cell_type": "code",
   "execution_count": 9,
   "id": "81b20468",
   "metadata": {},
   "outputs": [
    {
     "name": "stdout",
     "output_type": "stream",
     "text": [
      "200\n"
     ]
    }
   ],
   "source": [
    "# Que.\n",
    "a = 10\n",
    "b = 20\n",
    "multiple = a*b\n",
    "print(multiple)"
   ]
  },
  {
   "cell_type": "markdown",
   "id": "302b7ff2",
   "metadata": {},
   "source": [
    "### Assigning different type of data to a variable"
   ]
  },
  {
   "cell_type": "code",
   "execution_count": 10,
   "id": "1e2d748c",
   "metadata": {},
   "outputs": [
    {
     "data": {
      "text/plain": [
       "'Anu'"
      ]
     },
     "execution_count": 10,
     "metadata": {},
     "output_type": "execute_result"
    }
   ],
   "source": [
    "a = 10\n",
    "a = 20\n",
    "a = \"Anu\"\n",
    "a\n",
    "# a lost the address of the 10 and 20 so they are not print on the screen"
   ]
  },
  {
   "cell_type": "code",
   "execution_count": 11,
   "id": "786d7944",
   "metadata": {},
   "outputs": [
    {
     "data": {
      "text/plain": [
       "str"
      ]
     },
     "execution_count": 11,
     "metadata": {},
     "output_type": "execute_result"
    }
   ],
   "source": [
    "type(a)"
   ]
  },
  {
   "cell_type": "code",
   "execution_count": 12,
   "id": "e938d089",
   "metadata": {},
   "outputs": [
    {
     "data": {
      "text/plain": [
       "int"
      ]
     },
     "execution_count": 12,
     "metadata": {},
     "output_type": "execute_result"
    }
   ],
   "source": [
    "a = 10\n",
    "type(a)\n"
   ]
  },
  {
   "cell_type": "code",
   "execution_count": 13,
   "id": "abb166d7",
   "metadata": {},
   "outputs": [
    {
     "name": "stdout",
     "output_type": "stream",
     "text": [
      "<class 'str'>\n",
      "<class 'int'>\n"
     ]
    }
   ],
   "source": [
    "a = \"Anu\"\n",
    "print(type(a))\n",
    "a = 10\n",
    "print(type(a))"
   ]
  },
  {
   "cell_type": "code",
   "execution_count": 14,
   "id": "79c2d92d",
   "metadata": {},
   "outputs": [],
   "source": [
    "# Que.select correct variable name\n",
    "# 1.var1\n",
    "# 2.Var_1\n",
    "# 3.1var\n",
    "# 4._var3\n",
    "# Ans:1,2,4\n",
    "\n",
    "# Que. What will  be the result of the following code?\n",
    "# x = 10\n",
    "# x = \"abcd\"\n",
    "# Ans:abcd\n",
    "    \n",
    "# Que. What will be the type of x ?\n",
    "# x = \"abcd\"\n",
    "# x = 10\n",
    "# Ans: int"
   ]
  },
  {
   "cell_type": "markdown",
   "id": "7fafde3f",
   "metadata": {},
   "source": [
    "##  Python Numbers"
   ]
  },
  {
   "cell_type": "code",
   "execution_count": 15,
   "id": "3a2cc2eb",
   "metadata": {},
   "outputs": [
    {
     "name": "stdout",
     "output_type": "stream",
     "text": [
      "23\n",
      "3.4\n",
      "(4+5j)\n",
      "<class 'int'>\n",
      "<class 'float'>\n",
      "<class 'complex'>\n"
     ]
    }
   ],
   "source": [
    "a1 = 23\n",
    "a2 = 3.4\n",
    "a3 = 4 + 5j\n",
    "print(a1)\n",
    "print(a2)\n",
    "print(a3)\n",
    "\n",
    "print(type(a1))\n",
    "print(type(a2))\n",
    "print(type(a3))\n"
   ]
  },
  {
   "cell_type": "code",
   "execution_count": 16,
   "id": "aa750619",
   "metadata": {},
   "outputs": [
    {
     "data": {
      "text/plain": [
       "11"
      ]
     },
     "execution_count": 16,
     "metadata": {},
     "output_type": "execute_result"
    }
   ],
   "source": [
    "a = 10\n",
    "a = a+1\n",
    "a"
   ]
  },
  {
   "cell_type": "code",
   "execution_count": 17,
   "id": "2e4daf38",
   "metadata": {},
   "outputs": [
    {
     "name": "stdout",
     "output_type": "stream",
     "text": [
      "2226940543504\n",
      "2226940543536\n"
     ]
    },
    {
     "data": {
      "text/plain": [
       "11"
      ]
     },
     "execution_count": 17,
     "metadata": {},
     "output_type": "execute_result"
    }
   ],
   "source": [
    "a = 10\n",
    "# Id function give us address\n",
    "# Id function gives us unique number associated with storage where the variable getting store\n",
    "print(id(a))\n",
    "a = a+1\n",
    "print(id(a))\n",
    "a\n"
   ]
  },
  {
   "cell_type": "code",
   "execution_count": 18,
   "id": "31f8ac31",
   "metadata": {},
   "outputs": [
    {
     "name": "stdout",
     "output_type": "stream",
     "text": [
      "2226940543504\n",
      "2226940543504\n",
      "2227020378992\n",
      "2227020366384\n"
     ]
    }
   ],
   "source": [
    "a = 10\n",
    "b = 10\n",
    "print(id(a))\n",
    "print(id(b))\n",
    "# Both a & b variable storing the address of the same storage (this is valid for only the numbers between -5 to 256)\n",
    "c = 500\n",
    "d = 500\n",
    "print(id(c))\n",
    "print(id(d))"
   ]
  },
  {
   "cell_type": "code",
   "execution_count": 19,
   "id": "e9f60e06",
   "metadata": {},
   "outputs": [],
   "source": [
    "# Que . Will id1 and id2 have same value?\n",
    "# a = 10\n",
    "# id1 = id(a)\n",
    "# b = a+2-2\n",
    "# id2 = id(b)\n",
    "# Ans:Yes"
   ]
  },
  {
   "cell_type": "markdown",
   "id": "acb6d036",
   "metadata": {},
   "source": [
    "# Range of Integer"
   ]
  },
  {
   "cell_type": "markdown",
   "id": "37fdd776",
   "metadata": {},
   "source": [
    "\n",
    "### Arithmatic operators are +,-,*,/,//,**,%\n"
   ]
  },
  {
   "cell_type": "code",
   "execution_count": 20,
   "id": "611fbb8f",
   "metadata": {},
   "outputs": [
    {
     "name": "stdout",
     "output_type": "stream",
     "text": [
      "5\n",
      "5\n",
      "15\n",
      "50\n",
      "2.0\n",
      "2\n",
      "100000\n",
      "0\n"
     ]
    }
   ],
   "source": [
    "# 10-3\n",
    "# 20-7.4\n",
    "a = 10\n",
    "b = 5\n",
    "print(a-b)\n",
    "c = a-b\n",
    "print(c)\n",
    "d = a+b\n",
    "print(d)\n",
    "e = a*b\n",
    "print(e)\n",
    "f = a/b\n",
    "# /gives us only float value after division\n",
    "print(f)\n",
    "g = a//b\n",
    "print(g)\n",
    "# // gives us only integer value after division\n",
    "\n",
    "h = a**b\n",
    "print(h)\n",
    "# **(exponentiation) gives us the value of a to the power b\n",
    "i = a%b\n",
    "print(i)\n",
    "# % gives us remainder value after division of a and b"
   ]
  },
  {
   "cell_type": "code",
   "execution_count": 21,
   "id": "dc20b858",
   "metadata": {},
   "outputs": [
    {
     "data": {
      "text/plain": [
       "14"
      ]
     },
     "execution_count": 21,
     "metadata": {},
     "output_type": "execute_result"
    }
   ],
   "source": [
    "2+3*4"
   ]
  },
  {
   "cell_type": "code",
   "execution_count": 22,
   "id": "428a97a2",
   "metadata": {},
   "outputs": [
    {
     "data": {
      "text/plain": [
       "1.5"
      ]
     },
     "execution_count": 22,
     "metadata": {},
     "output_type": "execute_result"
    }
   ],
   "source": [
    "2*3/4"
   ]
  },
  {
   "cell_type": "code",
   "execution_count": 23,
   "id": "914202be",
   "metadata": {},
   "outputs": [
    {
     "data": {
      "text/plain": [
       "1"
      ]
     },
     "execution_count": 23,
     "metadata": {},
     "output_type": "execute_result"
    }
   ],
   "source": [
    "2*3//4"
   ]
  },
  {
   "cell_type": "code",
   "execution_count": 24,
   "id": "c0820cdf",
   "metadata": {},
   "outputs": [
    {
     "data": {
      "text/plain": [
       "1"
      ]
     },
     "execution_count": 24,
     "metadata": {},
     "output_type": "execute_result"
    }
   ],
   "source": [
    "(2*3)//4"
   ]
  },
  {
   "cell_type": "markdown",
   "id": "35ad8117",
   "metadata": {},
   "source": [
    "# Priority of arithmatic operator\n"
   ]
  },
  {
   "cell_type": "code",
   "execution_count": 25,
   "id": "8c8b7edd",
   "metadata": {},
   "outputs": [
    {
     "name": "stdout",
     "output_type": "stream",
     "text": [
      "24\n",
      "0\n",
      "24\n"
     ]
    }
   ],
   "source": [
    "#Simple interest\n",
    "p = 100\n",
    "r = 12\n",
    "t = 2\n",
    "si =p*r*t//100\n",
    "print(si)\n",
    "# left to right calculation\n",
    "Si = t//100*p*r\n",
    "print(Si)\n",
    "SI =(p*r*t)//100\n",
    "print(SI)\n",
    "# This is correct way    "
   ]
  },
  {
   "cell_type": "code",
   "execution_count": 26,
   "id": "8dd8d1fc",
   "metadata": {},
   "outputs": [
    {
     "name": "stdout",
     "output_type": "stream",
     "text": [
      "82.22222222222223\n",
      "37.77777777777778\n",
      "37\n"
     ]
    }
   ],
   "source": [
    "# Fah. to calcius convert\n",
    "f = 100\n",
    "c = f - 32*5/9   \n",
    "# wrong ans\n",
    "print(c)\n",
    "C = (f - 32)*5/9\n",
    "print(C)\n",
    "# For integer //\n",
    "Ci = (f - 32)*5//9\n",
    "print(Ci)"
   ]
  },
  {
   "cell_type": "code",
   "execution_count": null,
   "id": "abe21049",
   "metadata": {},
   "outputs": [],
   "source": [
    "# Que . What will be the output of the following statement?\n",
    "# print(17//10)\n",
    "# ans:1\n",
    "# Que . What will be the output of the following statement?\n",
    "# print(17/10)\n",
    "# ans:1.7"
   ]
  },
  {
   "cell_type": "markdown",
   "id": "53722c4f",
   "metadata": {},
   "source": [
    "# Input"
   ]
  },
  {
   "cell_type": "code",
   "execution_count": 3,
   "id": "d2bbb3e5",
   "metadata": {},
   "outputs": [
    {
     "name": "stdout",
     "output_type": "stream",
     "text": [
      "23\n"
     ]
    },
    {
     "data": {
      "text/plain": [
       "'23'"
      ]
     },
     "execution_count": 3,
     "metadata": {},
     "output_type": "execute_result"
    }
   ],
   "source": [
    "a = input()\n",
    "a"
   ]
  },
  {
   "cell_type": "code",
   "execution_count": 4,
   "id": "276b7441",
   "metadata": {},
   "outputs": [
    {
     "name": "stdout",
     "output_type": "stream",
     "text": [
      "5\n",
      "8\n",
      "58\n",
      "<class 'str'>\n",
      "34\n",
      "<class 'int'>\n",
      "3\n",
      "<class 'int'>\n"
     ]
    }
   ],
   "source": [
    "a = input()\n",
    "b = input()\n",
    "s = a + b\n",
    "print(s)\n",
    "# The ans is wrong bcoz input function take a string as an argument\n",
    "print(type(a))\n",
    "\n",
    "\n",
    "# Convert string in int data type\n",
    "c = '34'\n",
    "d = int(c)\n",
    "print(d)\n",
    "print(type(d))\n",
    "\n",
    "\n",
    "f = int(3.7)\n",
    "print(f)\n",
    "print(type(f))\n",
    "\n"
   ]
  },
  {
   "cell_type": "code",
   "execution_count": 5,
   "id": "ca99c57e",
   "metadata": {},
   "outputs": [
    {
     "name": "stdout",
     "output_type": "stream",
     "text": [
      "23\n",
      "<class 'int'>\n",
      "34\n",
      "<class 'float'>\n"
     ]
    }
   ],
   "source": [
    "a = int(input())\n",
    "print(type(a))\n",
    "b = float(input())\n",
    "print(type(b))"
   ]
  },
  {
   "cell_type": "code",
   "execution_count": 6,
   "id": "dd8c8209",
   "metadata": {},
   "outputs": [
    {
     "name": "stdout",
     "output_type": "stream",
     "text": [
      "23\n",
      "34\n",
      "57\n"
     ]
    }
   ],
   "source": [
    "a = int(input())\n",
    "b = int(input())\n",
    "s = a + b\n",
    "print(s)"
   ]
  },
  {
   "cell_type": "code",
   "execution_count": 7,
   "id": "8d23abec",
   "metadata": {},
   "outputs": [
    {
     "name": "stdout",
     "output_type": "stream",
     "text": [
      "40\n",
      "54\n",
      "4054\n"
     ]
    }
   ],
   "source": [
    "# Que. What will be the output of the code if input provided is 40 and 54?\n",
    "a = input()\n",
    "b = input()\n",
    "c = a + b\n",
    "print(c)"
   ]
  },
  {
   "cell_type": "code",
   "execution_count": 8,
   "id": "a2741432",
   "metadata": {},
   "outputs": [
    {
     "name": "stdout",
     "output_type": "stream",
     "text": [
      "40\n",
      "54\n",
      "94\n"
     ]
    }
   ],
   "source": [
    "# Que. What will be the output of the code if input provided is 40 and 54?\n",
    "a = int(input())\n",
    "b = int(input())\n",
    "c = a + b\n",
    "print(c)"
   ]
  },
  {
   "cell_type": "code",
   "execution_count": 11,
   "id": "7212063b",
   "metadata": {},
   "outputs": [
    {
     "name": "stdout",
     "output_type": "stream",
     "text": [
      "\"abc\"\n"
     ]
    },
    {
     "ename": "ValueError",
     "evalue": "invalid literal for int() with base 10: '\"abc\"'",
     "output_type": "error",
     "traceback": [
      "\u001b[1;31m---------------------------------------------------------------------------\u001b[0m",
      "\u001b[1;31mValueError\u001b[0m                                Traceback (most recent call last)",
      "Cell \u001b[1;32mIn[11], line 2\u001b[0m\n\u001b[0;32m      1\u001b[0m \u001b[38;5;66;03m# Que. What will be the output of the code if input provided is \"abc\" and\"def\u001b[39;00m\n\u001b[1;32m----> 2\u001b[0m a \u001b[38;5;241m=\u001b[39m \u001b[38;5;28;43mint\u001b[39;49m\u001b[43m(\u001b[49m\u001b[38;5;28;43minput\u001b[39;49m\u001b[43m(\u001b[49m\u001b[43m)\u001b[49m\u001b[43m)\u001b[49m\n\u001b[0;32m      3\u001b[0m b \u001b[38;5;241m=\u001b[39m \u001b[38;5;28mint\u001b[39m(\u001b[38;5;28minput\u001b[39m())\n\u001b[0;32m      4\u001b[0m c \u001b[38;5;241m=\u001b[39m a \u001b[38;5;241m+\u001b[39m b\n",
      "\u001b[1;31mValueError\u001b[0m: invalid literal for int() with base 10: '\"abc\"'"
     ]
    }
   ],
   "source": [
    "# Que. What will be the output of the code if input provided is \"abc\" and\"def\n",
    "a = int(input())\n",
    "b = int(input())\n",
    "c = a + b\n",
    "print(c)"
   ]
  },
  {
   "cell_type": "code",
   "execution_count": 12,
   "id": "ce9689d5",
   "metadata": {},
   "outputs": [
    {
     "name": "stdout",
     "output_type": "stream",
     "text": [
      "3\n",
      "4\n",
      "6\n",
      "4.333333333333333\n"
     ]
    }
   ],
   "source": [
    "P = int(input())\n",
    "M = int(input())\n",
    "C = int(input())\n",
    "\n",
    "Average = (P + M + C)/3\n",
    "print(Average)"
   ]
  },
  {
   "cell_type": "code",
   "execution_count": 14,
   "id": "a08b6c75",
   "metadata": {},
   "outputs": [
    {
     "name": "stdout",
     "output_type": "stream",
     "text": [
      "10\n",
      "4\n",
      "10000\n"
     ]
    }
   ],
   "source": [
    "X = int(input())\n",
    "N = int(input())\n",
    "Ans = X**N\n",
    "print(Ans)\n",
    "    "
   ]
  },
  {
   "cell_type": "code",
   "execution_count": 15,
   "id": "2e378835",
   "metadata": {},
   "outputs": [
    {
     "name": "stdout",
     "output_type": "stream",
     "text": [
      "1\n",
      "3\n",
      "5\n",
      "2\n"
     ]
    }
   ],
   "source": [
    "A = int(input())\n",
    "B = int(input())\n",
    "C = int(input())\n",
    "Diff = B - A \n",
    "print(Diff)\n"
   ]
  },
  {
   "cell_type": "code",
   "execution_count": null,
   "id": "e3af15be",
   "metadata": {},
   "outputs": [],
   "source": []
  }
 ],
 "metadata": {
  "kernelspec": {
   "display_name": "Python 3 (ipykernel)",
   "language": "python",
   "name": "python3"
  },
  "language_info": {
   "codemirror_mode": {
    "name": "ipython",
    "version": 3
   },
   "file_extension": ".py",
   "mimetype": "text/x-python",
   "name": "python",
   "nbconvert_exporter": "python",
   "pygments_lexer": "ipython3",
   "version": "3.10.9"
  }
 },
 "nbformat": 4,
 "nbformat_minor": 5
}
